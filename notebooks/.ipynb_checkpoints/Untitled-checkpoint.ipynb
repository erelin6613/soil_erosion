{
 "cells": [
  {
   "cell_type": "code",
   "execution_count": 21,
   "id": "52d80aa8",
   "metadata": {},
   "outputs": [],
   "source": [
    "import os\n",
    "import numpy as np\n",
    "from ipywidgets import interact\n",
    "import ipywidgets as widgets\n",
    "from matplotlib.pylab import plt\n",
    "from tqdm.notebook import tqdm\n",
    "\n",
    "%matplotlib inline\n",
    "plt.rcParams['figure.figsize'] = (12, 12);"
   ]
  },
  {
   "cell_type": "code",
   "execution_count": 22,
   "id": "ec9f7b34",
   "metadata": {},
   "outputs": [],
   "source": [
    "dataset_dir = \"/home/quantum/soil_erosion/imagery_dataset\""
   ]
  },
  {
   "cell_type": "code",
   "execution_count": 23,
   "id": "4b0d6610",
   "metadata": {},
   "outputs": [],
   "source": [
    "def show_masks(imgs, masks):\n",
    "    def visualize_image(num):\n",
    "        img = np.load(imgs[num])\n",
    "        mask = np.load(masks[num])\n",
    "        return img, mask\n",
    "\n",
    "    def f_fabric(num):\n",
    "        def f(x):\n",
    "            img, mask = visualize_image(x)\n",
    "            fig, axes = plt.subplots(1, 2, figsize = (15, 12))\n",
    "\n",
    "            axes[0].set_title('Raster')\n",
    "            axes[0].imshow(img[1:].transpose(1,2,0))\n",
    "\n",
    "            axes[1].set_title('GT mask')\n",
    "            axes[1].imshow(mask, cmap='gray')\n",
    "\n",
    "            plt.tight_layout()\n",
    "\n",
    "        return f\n",
    "    \n",
    "    plt.rcParams.update({'font.size': 14})\n",
    "    f = f_fabric(0)\n",
    "    interact(f, x=widgets.IntSlider(min=0, max=len(imgs)-1, step=1, value=0, continuous_update=False))"
   ]
  },
  {
   "cell_type": "code",
   "execution_count": 24,
   "id": "0eb11372",
   "metadata": {},
   "outputs": [
    {
     "data": {
      "application/vnd.jupyter.widget-view+json": {
       "model_id": "e8dcee947008483e9d264ecc7305c326",
       "version_major": 2,
       "version_minor": 0
      },
      "text/plain": [
       "interactive(children=(IntSlider(value=0, continuous_update=False, description='x', max=58), Output()), _dom_cl…"
      ]
     },
     "metadata": {},
     "output_type": "display_data"
    }
   ],
   "source": [
    "imgs = sorted([os.path.join(dataset_dir, \"tiles\", x) for x in os.listdir(dataset_dir+\"/tiles\")])\n",
    "masks = sorted([os.path.join(dataset_dir, \"masks\", x) for x in os.listdir(dataset_dir+\"/masks\")])\n",
    "show_masks(imgs, masks)"
   ]
  },
  {
   "cell_type": "code",
   "execution_count": null,
   "id": "1c1ddce9",
   "metadata": {},
   "outputs": [],
   "source": []
  }
 ],
 "metadata": {
  "kernelspec": {
   "display_name": "Python 3",
   "language": "python",
   "name": "python3"
  },
  "language_info": {
   "codemirror_mode": {
    "name": "ipython",
    "version": 3
   },
   "file_extension": ".py",
   "mimetype": "text/x-python",
   "name": "python",
   "nbconvert_exporter": "python",
   "pygments_lexer": "ipython3",
   "version": "3.9.7"
  }
 },
 "nbformat": 4,
 "nbformat_minor": 5
}
