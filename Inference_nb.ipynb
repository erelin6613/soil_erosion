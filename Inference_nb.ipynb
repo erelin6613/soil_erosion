{
 "cells": [
  {
   "cell_type": "code",
   "execution_count": 1,
   "metadata": {},
   "outputs": [
    {
     "name": "stderr",
     "output_type": "stream",
     "text": [
      "/home/quantum/miniconda3/envs/soil_erosion/lib/python3.7/site-packages/torch/cuda/__init__.py:52: UserWarning: CUDA initialization: Found no NVIDIA driver on your system. Please check that you have an NVIDIA GPU and installed a driver from http://www.nvidia.com/Download/index.aspx (Triggered internally at  /pytorch/c10/cuda/CUDAFunctions.cpp:100.)\n",
      "  return torch._C._cuda_getDeviceCount() > 0\n"
     ]
    }
   ],
   "source": [
    "import os\n",
    "import numpy as np\n",
    "import torch\n",
    "import yaml\n",
    "from ipywidgets import interact\n",
    "import ipywidgets as widgets\n",
    "from matplotlib.pylab import plt\n",
    "from tqdm.notebook import tqdm\n",
    "import imageio\n",
    "import pandas as pd\n",
    "\n",
    "# from src.engine import load_model, val_tfs\n",
    "from src.dataset import val_tfs\n",
    "from src.evaluate import iou, filter_pixels\n",
    "from src.dataset import ChipsDataset\n",
    "\n",
    "%matplotlib inline\n",
    "plt.rcParams['figure.figsize'] = (12, 12);\n",
    "\n",
    "with open('./src/config.yaml') as f:\n",
    "    config = yaml.safe_load(f)\n",
    "config['device'] = 'cuda' if torch.cuda.is_available() else 'cpu'"
   ]
  },
  {
   "cell_type": "code",
   "execution_count": 14,
   "metadata": {},
   "outputs": [],
   "source": [
    "import segmentation_models_pytorch as smp\n",
    "import albumentations as A\n",
    "# import torchvision.models as models\n",
    "from src.high_resolution_net.lib.models.hrnet import hrnet48, hrnet32, hrnet18\n",
    "\n",
    "def make_unet(backbone='resnet34', weigths='imagenet',\n",
    "              num_classes=1, activation='sigmoid', channels=3):\n",
    "\n",
    "    model = smp.Unet(\n",
    "        encoder_name=backbone,\n",
    "        encoder_weights=weigths,\n",
    "        classes=num_classes,\n",
    "        activation=activation,\n",
    "        in_channels=channels)\n",
    "\n",
    "    return model\n",
    "\n",
    "def make_unet_plusplus(backbone='resnet50', weigths='imagenet',\n",
    "                   num_classes=1,\n",
    "                   activation='sigmoid',channels=3):\n",
    "\n",
    "    model = smp.UnetPlusPlus(\n",
    "        encoder_name=backbone,\n",
    "        encoder_weights=weigths,\n",
    "        classes=num_classes,\n",
    "        activation=activation,\n",
    "        in_channels=channels)\n",
    "\n",
    "    return model\n",
    "\n",
    "def make_hrnet_18(channels=3):\n",
    "    model = hrnet18(pretrained=False, progress=True, channels=channels)\n",
    "    return model\n",
    "\n",
    "def load_model(model_name, path=None, device='cpu', channels=3, **kwargs):\n",
    "\n",
    "    name = model_name.split('_')[0]\n",
    "#     model = make_unet(channels=channels, **kwargs)\n",
    "    model = make_unet_plusplus(channels=channels, **kwargs)\n",
    "#     model = make_deeplab()\n",
    "    model = make_hrnet_18()\n",
    "\n",
    "    if path is not None:\n",
    "        model.load_state_dict(torch.load(path,\n",
    "            map_location=config['device']))\n",
    "\n",
    "    return model.to(device)\n",
    "\n",
    "# model = load_model(\"unet\", path=\"models/deeplab_none_40_nir_tci_multitemporal.pth\", channels=3)\n",
    "model = load_model(\"hrnet\", \"models/highresolutionnet18_none_40_nir_tci_multitemporal.pth\")\n",
    "# model = load_model(\"unetplusplus\", path=\"models/UnetPlusPlus_none_40_nir_tci_multitemporal.pth\", channels=3)"
   ]
  },
  {
   "cell_type": "code",
   "execution_count": 15,
   "metadata": {},
   "outputs": [
    {
     "data": {
      "text/plain": [
       "9601937"
      ]
     },
     "execution_count": 15,
     "metadata": {},
     "output_type": "execute_result"
    }
   ],
   "source": [
    "sum([p.numel() for p in model.parameters()])"
   ]
  },
  {
   "cell_type": "code",
   "execution_count": 16,
   "metadata": {},
   "outputs": [],
   "source": [
    "if config['device'] == 'cuda':\n",
    "    torch.cuda.empty_cache()\n",
    "    \n",
    "val_tfs = A.Compose([\n",
    "    A.pytorch.transforms.ToTensorV2(p=1.0)])\n",
    "    \n",
    "dataset = ChipsDataset(transforms=val_tfs)\n",
    "dataset.transforms = val_tfs"
   ]
  },
  {
   "cell_type": "code",
   "execution_count": 17,
   "metadata": {},
   "outputs": [],
   "source": [
    "def visualize_results(dataset):\n",
    "    def visualize_image(num):\n",
    "        img, mask, _ = dataset[num]\n",
    "        pred = model(img.unsqueeze(0))\n",
    "\n",
    "        return img, mask.numpy(), pred.detach().numpy()\n",
    "\n",
    "    def f_fabric(num):\n",
    "        def f(x):\n",
    "            img, mask, pred = visualize_image(x)\n",
    "            fig, axes = plt.subplots(1, 3, figsize = (15, 12))\n",
    "\n",
    "            axes[0].set_title('Image')\n",
    "            axes[0].imshow(img.permute(1,2,0).numpy())\n",
    "            axes[0].axis(\"off\")\n",
    "\n",
    "            axes[1].set_title('Prediction')\n",
    "            axes[1].imshow(pred[0][0], cmap='gray')\n",
    "            axes[1].axis(\"off\")\n",
    "            \n",
    "            axes[2].set_title('GT mask')\n",
    "            axes[2].imshow(mask[0], cmap='gray')\n",
    "            axes[2].axis(\"off\")\n",
    "\n",
    "            plt.tight_layout()\n",
    "\n",
    "        return f\n",
    "    \n",
    "    plt.rcParams.update({'font.size': 14})\n",
    "    f = f_fabric(0)\n",
    "    interact(f, x=widgets.IntSlider(min=0, max=len(dataset)-1, step=1, value=0, continuous_update=False))"
   ]
  },
  {
   "cell_type": "code",
   "execution_count": 18,
   "metadata": {},
   "outputs": [
    {
     "data": {
      "application/vnd.jupyter.widget-view+json": {
       "model_id": "3787b0907e474530828a7d702dacf7ed",
       "version_major": 2,
       "version_minor": 0
      },
      "text/plain": [
       "interactive(children=(IntSlider(value=0, continuous_update=False, description='x', max=330), Output()), _dom_c…"
      ]
     },
     "metadata": {},
     "output_type": "display_data"
    }
   ],
   "source": [
    "visualize_results(dataset)"
   ]
  },
  {
   "cell_type": "code",
   "execution_count": 7,
   "metadata": {},
   "outputs": [],
   "source": [
    "options = [round(x*0.05, 2) for x in range(1, 19)]\n",
    "\n",
    "def find_thresh(model, optimize=iou, options=options):\n",
    "    best_iou = (None, 0)\n",
    "    pbar = tqdm(options)\n",
    "    \n",
    "    for val in pbar:\n",
    "        \n",
    "        conf = config.copy()\n",
    "        config['threshold'] = val\n",
    "        valid_ious = get_ious(model, config, 'valid_v3', bands=['tci', 'nir'])\n",
    "        if np.mean(valid_ious) > best_iou[1]:\n",
    "            best_iou = (val, np.mean(valid_ious))\n",
    "        pbar.set_postfix({'value': val, 'iou': best_iou})\n",
    "            \n",
    "    return best_iou"
   ]
  },
  {
   "cell_type": "code",
   "execution_count": 8,
   "metadata": {},
   "outputs": [
    {
     "data": {
      "application/vnd.jupyter.widget-view+json": {
       "model_id": "b5afae8d8115479d9213a6b6eb497cb0",
       "version_major": 2,
       "version_minor": 0
      },
      "text/plain": [
       "  0%|          | 0/18 [00:00<?, ?it/s]"
      ]
     },
     "metadata": {},
     "output_type": "display_data"
    },
    {
     "ename": "NameError",
     "evalue": "name 'get_ious' is not defined",
     "output_type": "error",
     "traceback": [
      "\u001b[0;31m---------------------------------------------------------------------------\u001b[0m",
      "\u001b[0;31mNameError\u001b[0m                                 Traceback (most recent call last)",
      "\u001b[0;32m/tmp/ipykernel_665923/4248418707.py\u001b[0m in \u001b[0;36m<module>\u001b[0;34m\u001b[0m\n\u001b[0;32m----> 1\u001b[0;31m \u001b[0mthresh\u001b[0m\u001b[0;34m,\u001b[0m \u001b[0miou_\u001b[0m \u001b[0;34m=\u001b[0m \u001b[0mfind_thresh\u001b[0m\u001b[0;34m(\u001b[0m\u001b[0mmodel\u001b[0m\u001b[0;34m)\u001b[0m\u001b[0;34m\u001b[0m\u001b[0;34m\u001b[0m\u001b[0m\n\u001b[0m\u001b[1;32m      2\u001b[0m \u001b[0mconfig\u001b[0m\u001b[0;34m[\u001b[0m\u001b[0;34m'threshold'\u001b[0m\u001b[0;34m]\u001b[0m \u001b[0;34m=\u001b[0m \u001b[0mthresh\u001b[0m\u001b[0;34m\u001b[0m\u001b[0;34m\u001b[0m\u001b[0m\n\u001b[1;32m      3\u001b[0m \u001b[0;32mwith\u001b[0m \u001b[0mopen\u001b[0m\u001b[0;34m(\u001b[0m\u001b[0;34m'./code/config.yaml'\u001b[0m\u001b[0;34m,\u001b[0m \u001b[0;34m'w'\u001b[0m\u001b[0;34m)\u001b[0m \u001b[0;32mas\u001b[0m \u001b[0mf\u001b[0m\u001b[0;34m:\u001b[0m\u001b[0;34m\u001b[0m\u001b[0;34m\u001b[0m\u001b[0m\n\u001b[1;32m      4\u001b[0m     \u001b[0mf\u001b[0m\u001b[0;34m.\u001b[0m\u001b[0mwrite\u001b[0m\u001b[0;34m(\u001b[0m\u001b[0myaml\u001b[0m\u001b[0;34m.\u001b[0m\u001b[0mdump\u001b[0m\u001b[0;34m(\u001b[0m\u001b[0mconfig\u001b[0m\u001b[0;34m)\u001b[0m\u001b[0;34m)\u001b[0m\u001b[0;34m\u001b[0m\u001b[0;34m\u001b[0m\u001b[0m\n",
      "\u001b[0;32m/tmp/ipykernel_665923/2518506307.py\u001b[0m in \u001b[0;36mfind_thresh\u001b[0;34m(model, optimize, options)\u001b[0m\n\u001b[1;32m      9\u001b[0m         \u001b[0mconf\u001b[0m \u001b[0;34m=\u001b[0m \u001b[0mconfig\u001b[0m\u001b[0;34m.\u001b[0m\u001b[0mcopy\u001b[0m\u001b[0;34m(\u001b[0m\u001b[0;34m)\u001b[0m\u001b[0;34m\u001b[0m\u001b[0;34m\u001b[0m\u001b[0m\n\u001b[1;32m     10\u001b[0m         \u001b[0mconfig\u001b[0m\u001b[0;34m[\u001b[0m\u001b[0;34m'threshold'\u001b[0m\u001b[0;34m]\u001b[0m \u001b[0;34m=\u001b[0m \u001b[0mval\u001b[0m\u001b[0;34m\u001b[0m\u001b[0;34m\u001b[0m\u001b[0m\n\u001b[0;32m---> 11\u001b[0;31m         \u001b[0mvalid_ious\u001b[0m \u001b[0;34m=\u001b[0m \u001b[0mget_ious\u001b[0m\u001b[0;34m(\u001b[0m\u001b[0mmodel\u001b[0m\u001b[0;34m,\u001b[0m \u001b[0mconfig\u001b[0m\u001b[0;34m,\u001b[0m \u001b[0;34m'valid_v3'\u001b[0m\u001b[0;34m,\u001b[0m \u001b[0mbands\u001b[0m\u001b[0;34m=\u001b[0m\u001b[0;34m[\u001b[0m\u001b[0;34m'tci'\u001b[0m\u001b[0;34m,\u001b[0m \u001b[0;34m'nir'\u001b[0m\u001b[0;34m]\u001b[0m\u001b[0;34m)\u001b[0m\u001b[0;34m\u001b[0m\u001b[0;34m\u001b[0m\u001b[0m\n\u001b[0m\u001b[1;32m     12\u001b[0m         \u001b[0;32mif\u001b[0m \u001b[0mnp\u001b[0m\u001b[0;34m.\u001b[0m\u001b[0mmean\u001b[0m\u001b[0;34m(\u001b[0m\u001b[0mvalid_ious\u001b[0m\u001b[0;34m)\u001b[0m \u001b[0;34m>\u001b[0m \u001b[0mbest_iou\u001b[0m\u001b[0;34m[\u001b[0m\u001b[0;36m1\u001b[0m\u001b[0;34m]\u001b[0m\u001b[0;34m:\u001b[0m\u001b[0;34m\u001b[0m\u001b[0;34m\u001b[0m\u001b[0m\n\u001b[1;32m     13\u001b[0m             \u001b[0mbest_iou\u001b[0m \u001b[0;34m=\u001b[0m \u001b[0;34m(\u001b[0m\u001b[0mval\u001b[0m\u001b[0;34m,\u001b[0m \u001b[0mnp\u001b[0m\u001b[0;34m.\u001b[0m\u001b[0mmean\u001b[0m\u001b[0;34m(\u001b[0m\u001b[0mvalid_ious\u001b[0m\u001b[0;34m)\u001b[0m\u001b[0;34m)\u001b[0m\u001b[0;34m\u001b[0m\u001b[0;34m\u001b[0m\u001b[0m\n",
      "\u001b[0;31mNameError\u001b[0m: name 'get_ious' is not defined"
     ]
    }
   ],
   "source": [
    "thresh, iou_ = find_thresh(model)\n",
    "config['threshold'] = thresh\n",
    "with open('./code/config.yaml', 'w') as f:\n",
    "    f.write(yaml.dump(config))"
   ]
  },
  {
   "cell_type": "code",
   "execution_count": null,
   "metadata": {},
   "outputs": [],
   "source": [
    "thresh, iou_"
   ]
  },
  {
   "cell_type": "markdown",
   "metadata": {},
   "source": [
    "### Model Predictions test"
   ]
  },
  {
   "cell_type": "code",
   "execution_count": null,
   "metadata": {
    "slideshow": {
     "slide_type": "slide"
    }
   },
   "outputs": [],
   "source": [
    "imgs, extra_imgs, masks, filters, preds, merged, test_ious = get_gt_n_pred_imgs(\n",
    "    model, config, 'test_v3', False, bands=['TCI', 'NIR'])\n",
    "visualize_results(imgs, extra_imgs, masks, filters, preds, merged, test_ious)\n",
    "test_ious = get_ious(model, config, 'test_v3', bands=['TCI', 'NIR'])"
   ]
  },
  {
   "cell_type": "markdown",
   "metadata": {},
   "source": [
    "### Model train prediction"
   ]
  },
  {
   "cell_type": "code",
   "execution_count": null,
   "metadata": {},
   "outputs": [],
   "source": [
    "imgs, extra_imgs, masks, filters, preds, merged, train_ious = get_gt_n_pred_imgs(\n",
    "    model, config, 'train_v3', False, bands=['TCI', 'NIR'])\n",
    "visualize_results(imgs, extra_imgs, masks, filters, preds, merged, train_ious)\n",
    "train_ious = get_ious(model, config, 'train_v3', bands=['TCI', 'NIR'])"
   ]
  },
  {
   "cell_type": "markdown",
   "metadata": {},
   "source": [
    "### Model valid predictions"
   ]
  },
  {
   "cell_type": "code",
   "execution_count": null,
   "metadata": {},
   "outputs": [],
   "source": [
    "imgs, extra_imgs, masks, filters, preds, merged, valid_ious = get_gt_n_pred_imgs(\n",
    "    model, config, 'valid_v3', False, bands=['TCI', 'NIR'])\n",
    "visualize_results(imgs, extra_imgs, masks, filters, preds, merged, valid_ious)\n",
    "valid_ious = get_ious(model, config, 'valid_v3', bands=['TCI', 'NIR'])"
   ]
  },
  {
   "cell_type": "code",
   "execution_count": null,
   "metadata": {},
   "outputs": [],
   "source": [
    "results = pd.DataFrame()\n",
    "results = results.append({\n",
    "    'train_iou': np.mean(train_ious),\n",
    "    'valid_iou': np.mean(valid_ious),\n",
    "    'test_iou': np.mean(test_ious),\n",
    "}, ignore_index=True)\n",
    "results"
   ]
  },
  {
   "cell_type": "code",
   "execution_count": null,
   "metadata": {},
   "outputs": [],
   "source": [
    "os.path.split(model_path)[-1].split('.')[0]+'.csv'"
   ]
  },
  {
   "cell_type": "code",
   "execution_count": null,
   "metadata": {},
   "outputs": [],
   "source": [
    "results.to_csv(os.path.split(model_path)[-1].split('.')[0]+'.csv', index=False)"
   ]
  },
  {
   "cell_type": "code",
   "execution_count": null,
   "metadata": {},
   "outputs": [],
   "source": []
  }
 ],
 "metadata": {
  "kernelspec": {
   "display_name": "Python 3",
   "language": "python",
   "name": "python3"
  },
  "language_info": {
   "codemirror_mode": {
    "name": "ipython",
    "version": 3
   },
   "file_extension": ".py",
   "mimetype": "text/x-python",
   "name": "python",
   "nbconvert_exporter": "python",
   "pygments_lexer": "ipython3",
   "version": "3.7.13"
  }
 },
 "nbformat": 4,
 "nbformat_minor": 4
}
